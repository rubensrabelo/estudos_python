{
 "cells": [
  {
   "cell_type": "markdown",
   "metadata": {},
   "source": [
    "## **Tela de gerenciamento dos Jogos**"
   ]
  },
  {
   "cell_type": "markdown",
   "metadata": {},
   "source": [
    "#### **Importação das Bibliotecas Necessárias**\n",
    "\n",
    "- **`os`**: Para acessar variáveis de ambiente.\n",
    "- **`load_dotenv`**: Para carregar variáveis do arquivo `.env`.\n",
    "- **`pandas`**: Para manipulação e análise de dados.\n",
    "- **`psycopg2`**: Para conexão e operações com o banco de dados PostgreSQL.\n",
    "  - **`OperationalError`**: Para tratar erros operacionais do banco de dados.\n",
    "  - **`IntegrityError`**: Para capturar violações de integridade.\n",
    "- **`sqlalchemy`**: Para abstração e gerenciamento de conexões de banco de dados.\n",
    "  - **`create_engine`**: Para criar uma conexão com o banco de dados.\n",
    "- **`panel`**: Para criar interfaces e dashboards interativos."
   ]
  },
  {
   "cell_type": "code",
   "execution_count": null,
   "metadata": {},
   "outputs": [],
   "source": [
    "import os\n",
    "from dotenv import load_dotenv\n",
    "import pandas as pd\n",
    "import psycopg2\n",
    "from psycopg2 import OperationalError, IntegrityError\n",
    "import sqlalchemy\n",
    "from sqlalchemy import create_engine\n",
    "import panel as pn"
   ]
  },
  {
   "cell_type": "markdown",
   "metadata": {},
   "source": [
    "#### **Carregamento e Acesso às Variáveis de Ambiente**\n",
    "\n",
    "- **`load_dotenv()`**: Carrega as variáveis de ambiente a partir do arquivo `.env`.\n",
    "- **`db_name`**: Obtém o nome do banco de dados.\n",
    "- **`db_user`**: Obtém o nome de usuário para a conexão com o banco de dados.\n",
    "- **`db_password`**: Obtém a senha para a conexão com o banco de dados.\n",
    "- **`db_host`**: Obtém o endereço do host do banco de dados.\n",
    "- **`db_port`**: Obtém o número da porta para a conexão com o banco de dados.\n",
    "- **`database_url`**: Obtém a URL completa para a conexão com o banco de dados."
   ]
  },
  {
   "cell_type": "code",
   "execution_count": null,
   "metadata": {},
   "outputs": [],
   "source": [
    "load_dotenv()\n",
    "\n",
    "db_name = os.getenv('DB_NAME')\n",
    "db_user = os.getenv('DB_USER')\n",
    "db_password = os.getenv('DB_PASSWORD')\n",
    "db_host = os.getenv('DB_HOST')\n",
    "db_port = os.getenv('DB_PORT')\n",
    "\n",
    "database_url = os.getenv('DATABASE_URL')"
   ]
  },
  {
   "cell_type": "markdown",
   "metadata": {},
   "source": [
    "#### **Estabelecimento de Conexão com o Banco de Dados e Criação da Engine**\n",
    "\n",
    "1. **Conexão com `psycopg2`**:\n",
    "   - **Objetivo**: Tentar conectar ao banco de dados PostgreSQL usando as variáveis de ambiente.\n",
    "   - **Parâmetros**:\n",
    "     - **`dbname`**: Nome do banco de dados.\n",
    "     - **`user`**: Nome de usuário.\n",
    "     - **`password`**: Senha do usuário.\n",
    "     - **`host`**: Endereço do servidor.\n",
    "     - **`port`**: Número da porta.\n",
    "   - **Sucesso**: Exibe uma mensagem de confirmação se a conexão for estabelecida com sucesso.\n",
    "   - **Erro**: Se ocorrer um `OperationalError`, exibe uma mensagem com o motivo da falha.\n",
    "\n",
    "2. **Criação da Engine com `sqlalchemy`**:\n",
    "   - **Objetivo**: Criar uma engine de conexão para o banco de dados usando a URL completa.\n",
    "   - **Parâmetro**:\n",
    "     - **`database_url`**: URL completa de conexão com o banco de dados.\n",
    "   - **Função**: A engine abstrai a conexão e facilita a execução de operações e consultas no banco de dados."
   ]
  },
  {
   "cell_type": "code",
   "execution_count": null,
   "metadata": {},
   "outputs": [],
   "source": [
    "try:\n",
    "    conn = psycopg2.connect(\n",
    "        dbname=db_name,\n",
    "        user=db_user,\n",
    "        password=db_password,\n",
    "        host=db_host,\n",
    "        port=db_port\n",
    "    )\n",
    "    print(\"Conexão estabelecida com sucesso!\")\n",
    "    \n",
    "except OperationalError as e:\n",
    "    print(f\"Erro ao conectar ao banco de dados: {e}\")\n",
    "\n",
    "\n",
    "engine = create_engine(database_url)"
   ]
  },
  {
   "cell_type": "markdown",
   "metadata": {},
   "source": [
    "#### **Inicialização da Extensão do Panel**\n",
    "\n",
    "- **`pn.extension()`**: Inicializa as extensões do Panel necessárias para o funcionamento dos widgets e componentes.\n",
    "\n",
    "- **`pn.extension('tabulator')`**: Carrega a extensão `Tabulator` do Panel, que permite a criação de tabelas interativas e altamente configuráveis.\n",
    "\n",
    "- **`pn.extension(notifications=True)`**: Ativa o sistema de notificações do Panel, permitindo exibir mensagens de sucesso, erro ou alerta para o usuário."
   ]
  },
  {
   "cell_type": "code",
   "execution_count": null,
   "metadata": {},
   "outputs": [],
   "source": [
    "pn.extension()\n",
    "pn.extension('tabulator')\n",
    "pn.extension(notifications=True)"
   ]
  },
  {
   "cell_type": "markdown",
   "metadata": {},
   "source": [
    "#### **Definição de Widgets com Panel**\n",
    "\n",
    "- **Campos de Texto**:\n",
    "  - **`game_name`**: Para o nome do jogo.\n",
    "  - **`type`**: Para o tipo do jogo.\n",
    "  - **`description`**: Para a descrição do jogo.\n",
    "\n",
    "- **Botões**:\n",
    "  - **`buttonSelect`**: Consultar.\n",
    "  - **`buttonInsert`**: Inserir.\n",
    "  - **`buttonDelete`**: Excluir."
   ]
  },
  {
   "cell_type": "code",
   "execution_count": 10,
   "metadata": {},
   "outputs": [],
   "source": [
    "flag = \"\"\n",
    "\n",
    "game_name = pn.widgets.TextInput(\n",
    "    name=\"Nome do Jogo\",\n",
    "    value=\"\",\n",
    "    placeholder=\"Digite o nome do jogo\",\n",
    "    disabled=False\n",
    ")\n",
    "\n",
    "type = pn.widgets.TextInput(\n",
    "    name=\"Tipo\",\n",
    "    value=\"\",\n",
    "    placeholder=\"Digite o tipo do jogo\",\n",
    "    disabled=False\n",
    ")\n",
    "\n",
    "description = pn.widgets.TextInput(\n",
    "    name=\"Descrição\",\n",
    "    value=\"\",\n",
    "    placeholder=\"Digite a descrição do jogo\",\n",
    "    disabled=False\n",
    ")\n",
    "\n",
    "buttonSelect = pn.widgets.Button(name=\"Consultar\", button_type=\"default\")\n",
    "buttonInsert = pn.widgets.Button(name=\"Inserir\", button_type=\"default\")\n",
    "buttonDelete = pn.widgets.Button(name=\"Excluir\", button_type=\"default\")"
   ]
  },
  {
   "cell_type": "markdown",
   "metadata": {},
   "source": [
    "#### **Funções para Manipulação do Banco de Dados**\n",
    "\n",
    "- **`query_all()`**:\n",
    "  - **Objetivo**: Recupera todos os registros da tabela `bd_jogos.jogo` e exibe em uma tabela interativa.\n",
    "  - **Retorno**: Tabela `Tabulator` com todos os jogos.\n",
    "\n",
    "- **`select_game()`**:\n",
    "  - **Objetivo**: Consulta registros na tabela `bd_jogos.jogo` com base no nome ou tipo do jogo fornecido.\n",
    "  - **Tratamento de Erros**: Exibe um alerta se a consulta falhar.\n",
    "\n",
    "- **`insert_game()`**:\n",
    "  - **Objetivo**: Insere um novo jogo na tabela `bd_jogos.jogo` com base nas informações fornecidas.\n",
    "  - **Tratamento de Erros**: \n",
    "    - Exibe um alerta se o nome do jogo já existir.\n",
    "    - Reverte a transação e exibe uma mensagem de erro se a inserção falhar.\n",
    "\n",
    "- **`delete_game()`**:\n",
    "  - **Objetivo**: Exclui um jogo da tabela `bd_jogos.jogo` com base no nome fornecido.\n",
    "  - **Tratamento de Erros**: \n",
    "    - Reverte a transação e exibe uma mensagem de erro se a exclusão falhar."
   ]
  },
  {
   "cell_type": "code",
   "execution_count": 11,
   "metadata": {},
   "outputs": [],
   "source": [
    "def query_all():\n",
    "    query = f\"SELECT * FROM bd_jogos.jogo\"\n",
    "    df = pd.read_sql_query(query, conn)\n",
    "    return pn.widgets.Tabulator(df)\n",
    "\n",
    "def select_game():\n",
    "    try:\n",
    "        query = f\"SELECT * FROM bd_jogos.jogo WHERE ('{game_name.value_input}'='{flag}' and '{type.value_input}'  = '{flag}') or nome = '{game_name.value_input}' or tipo = '{type.value_input}'\"\n",
    "        df = pd.read_sql(query, con=engine)\n",
    "        table = pn.widgets.Tabulator(df, layout='fit_data')\n",
    "        return table\n",
    "    except Exception as e:\n",
    "        return pn.pane.Alert('Não foi possível consultar!')\n",
    "\n",
    "def insert_game():\n",
    "    try:\n",
    "        cursor = conn.cursor()\n",
    "        query = f\"insert into bd_jogos.jogo (nome, tipo, descricao) values (%s, %s, %s)\"\n",
    "\n",
    "        cursor.execute(query, (game_name.value_input, type.value_input, description.value_input))\n",
    "\n",
    "        conn.commit()\n",
    "        return query_all()\n",
    "    except IntegrityError as e:\n",
    "        if e.pgcode == \"23505\":\n",
    "            return pn.pane.Alert(\"O nome do jogo já existe. Por favor, escolha um nome diferente.\")\n",
    "        else:\n",
    "            conn.rollback()\n",
    "            cursor.close()\n",
    "            return pn.pane.alert(\"Não foi possível inserir!\")\n",
    "    except Exception as e:\n",
    "        conn.rollback()\n",
    "        cursor.close()\n",
    "        return pn.pane.Alert(\"Não foi possível inserir!\")\n",
    "\n",
    "def delete_game():\n",
    "    try:\n",
    "        cursor = conn.cursor()\n",
    "        query = f\"DELETE FROM bd_jogos.jogo WHERE jogo.nome = %s\"\n",
    "        \n",
    "        cursor.execute(query, (game_name.value_input,))\n",
    "\n",
    "        conn.commit()\n",
    "\n",
    "        return query_all()\n",
    "    except Exception as e:\n",
    "        print(e)\n",
    "        conn.rollback()\n",
    "        cursor.close()\n",
    "        return pn.pane.Alert(\"Não foi possível excluir!\")"
   ]
  },
  {
   "cell_type": "markdown",
   "metadata": {},
   "source": [
    "#### **Função para Criar Tabelas Interativas**\n",
    "\n",
    "- **`table_creator(cons, ins, exc)`**:\n",
    "  - **Objetivo**: Determina qual função executar com base nos parâmetros fornecidos.\n",
    "  - **Parâmetros**:\n",
    "    - **`cons`**: Se verdadeiro, chama `select_game()`.\n",
    "    - **`ins`**: Se verdadeiro, chama `insert_game()`.\n",
    "    - **`exc`**: Se verdadeiro, chama `delete_game()`.\n",
    "\n",
    "- **`interactive_table`**:\n",
    "  - **Objetivo**: Cria uma tabela interativa vinculada aos botões `buttonSelect`, `buttonInsert`, e `buttonDelete`.\n",
    "  - **Função**: Utiliza `pn.bind()` para associar a função `table_creator` aos botões, permitindo a execução da função apropriada quando um botão é clicado."
   ]
  },
  {
   "cell_type": "code",
   "execution_count": 12,
   "metadata": {},
   "outputs": [],
   "source": [
    "def table_creator(cons, ins, exc):\n",
    "    if cons:\n",
    "        return select_game()\n",
    "    if ins:\n",
    "        return insert_game()\n",
    "    if exc:\n",
    "        return delete_game()\n",
    "\n",
    "interactive_table = pn.bind(table_creator, buttonSelect, buttonInsert, buttonDelete)"
   ]
  },
  {
   "cell_type": "markdown",
   "metadata": {},
   "source": [
    "#### **Layout da Interface**\n",
    "\n",
    "- **Organização**:\n",
    "  - **Coluna 1**: \n",
    "    - Título: \"CRUD de jogos\"\n",
    "    - Campos para entrada de dados (nome, tipo, descrição)\n",
    "    - Botões para consultar, inserir e excluir jogos\n",
    "  - **Coluna 2**: \n",
    "    - Tabela interativa exibindo os resultados das operações\n",
    "\n",
    "- **Método**: \n",
    "  - **`.servable()`**: Torna a interface interativa e visível em um servidor Panel."
   ]
  },
  {
   "cell_type": "code",
   "execution_count": 13,
   "metadata": {},
   "outputs": [],
   "source": [
    "pn.Row(pn.Column(\"Tela de jogos\",\n",
    "    game_name,\n",
    "    type,\n",
    "    description,\n",
    "    pn.Row(buttonSelect),\n",
    "    pn.Row(buttonInsert),\n",
    "    pn.Row(buttonDelete)),\n",
    "    pn.Column(interactive_table)).servable()"
   ]
  }
 ],
 "metadata": {
  "kernelspec": {
   "display_name": "base",
   "language": "python",
   "name": "python3"
  },
  "language_info": {
   "codemirror_mode": {
    "name": "ipython",
    "version": 3
   },
   "file_extension": ".py",
   "mimetype": "text/x-python",
   "name": "python",
   "nbconvert_exporter": "python",
   "pygments_lexer": "ipython3",
   "version": "3.12.1"
  }
 },
 "nbformat": 4,
 "nbformat_minor": 2
}
