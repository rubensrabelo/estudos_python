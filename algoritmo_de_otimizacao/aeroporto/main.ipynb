{
 "cells": [
  {
   "cell_type": "code",
   "execution_count": 1,
   "metadata": {},
   "outputs": [],
   "source": [
    "import time\n",
    "import random\n",
    "import math"
   ]
  },
  {
   "cell_type": "code",
   "execution_count": 2,
   "metadata": {},
   "outputs": [],
   "source": [
    "pessoas = [(\"Amanda\", \"CWB\"),\n",
    "           (\"Pedro\", \"GIG\"),\n",
    "           (\"Marcos\", \"POA\"),\n",
    "           (\"Priscila\", \"FLN\"),\n",
    "           (\"Jessica\", \"CNF\"),\n",
    "           (\"Paulo\", \"GYN\"),]"
   ]
  },
  {
   "cell_type": "code",
   "execution_count": 3,
   "metadata": {},
   "outputs": [],
   "source": [
    "destino = \"GRU\""
   ]
  },
  {
   "cell_type": "code",
   "execution_count": 4,
   "metadata": {},
   "outputs": [],
   "source": [
    "voos = {}"
   ]
  },
  {
   "cell_type": "code",
   "execution_count": 5,
   "metadata": {},
   "outputs": [],
   "source": [
    "with open(\"voos.txt\", \"r\") as arq:\n",
    "    for linha in arq.readlines():\n",
    "        origem, destino, saida, chegada, preco = linha.split(\",\")\n",
    "        voos.setdefault((origem, destino), [])\n",
    "        voos[(origem, destino)].append((saida, chegada, int(preco)))"
   ]
  },
  {
   "cell_type": "code",
   "execution_count": 6,
   "metadata": {},
   "outputs": [],
   "source": [
    "# [1,4, 3,2, 7,3, 6,3, 2,4, 5,3 ]\n",
    "\n",
    "def imprimir_agenda(agenda: list[int]) -> None:\n",
    "    id_voo = -1\n",
    "    for i in range(len(agenda)//2):\n",
    "        nome = pessoas[i][0]\n",
    "        origem = pessoas[i][1]\n",
    "        id_voo += 1\n",
    "        ida = voos[(origem, destino)][agenda[id_voo]]\n",
    "        id_voo += 1\n",
    "        volta = voos[(destino, origem)][agenda[id_voo]]\n",
    "        print(f\"{nome} {origem} {ida[0]} {ida[1]} {ida[2]} {volta[0]} {volta[1]} {volta[2]}\\n\")"
   ]
  },
  {
   "cell_type": "code",
   "execution_count": 7,
   "metadata": {},
   "outputs": [
    {
     "name": "stdout",
     "output_type": "stream",
     "text": [
      "Amanda CWB 8:04 10:11 95 12:08 14:05 142\n",
      "\n",
      "Pedro GIG 10:30 14:57 290 9:49 13:51 229\n",
      "\n",
      "Marcos POA 17:08 19:08 262 10:32 13:16 139\n",
      "\n",
      "Priscila FLN 15:34 18:11 326 11:08 14:38 262\n",
      "\n",
      "Jessica CNF 9:42 11:32 169 12:08 14:47 231\n",
      "\n",
      "Paulo GYN 13:37 15:08 250 11:07 13:24 171\n",
      "\n"
     ]
    }
   ],
   "source": [
    "agenda = [1,4, 3,2, 7,3, 6,3, 2,4, 5,3 ]\n",
    "\n",
    "imprimir_agenda(agenda)"
   ]
  },
  {
   "cell_type": "code",
   "execution_count": 8,
   "metadata": {},
   "outputs": [],
   "source": [
    "def obter_minutos(horaStr: str):\n",
    "    hora = time.strptime(horaStr, \"%H:%M\")\n",
    "    minutos = hora[3] * 60 + hora[4]\n",
    "    return minutos"
   ]
  },
  {
   "cell_type": "code",
   "execution_count": 9,
   "metadata": {},
   "outputs": [],
   "source": [
    "def custo(solucao) -> None:\n",
    "    preco_total = 0\n",
    "    ultima_chegada = 0\n",
    "    primeira_partida = obter_minutos(\"23:59\")\n",
    "\n",
    "    id_voo = -1\n",
    "    for i in range(len(solucao) // 2):\n",
    "        origem = pessoas[i][1]\n",
    "        id_voo += 1\n",
    "        ida = voos[(origem, destino)][solucao[id_voo]]\n",
    "        id_voo += 1\n",
    "        volta = voos[(destino, origem)][solucao[id_voo]]\n",
    "\n",
    "        preco_total += ida[2] + volta[2]\n",
    "\n",
    "        if ultima_chegada < obter_minutos(ida[1]):\n",
    "            ultima_chegada = obter_minutos(ida[1])\n",
    "\n",
    "        if primeira_partida > obter_minutos(volta[0]):\n",
    "            primeira_partida = obter_minutos(volta[0])\n",
    "    \n",
    "    total_espera = 0\n",
    "    id_voo = -1\n",
    "    for i in range(len(solucao) // 2):\n",
    "        origem = pessoas[i][1]\n",
    "        id_voo += 1\n",
    "        ida = voos[(origem, destino)][solucao[id_voo]]\n",
    "        id_voo += 1\n",
    "        volta = voos[(destino, origem)][solucao[id_voo]]\n",
    "\n",
    "        total_espera += (ultima_chegada - obter_minutos(ida[1])) + (obter_minutos(volta[0]) - primeira_partida)\n",
    "\n",
    "    if ultima_chegada > primeira_partida:\n",
    "        preco_total += 50\n",
    "\n",
    "    return preco_total + total_espera "
   ]
  },
  {
   "cell_type": "code",
   "execution_count": 10,
   "metadata": {},
   "outputs": [
    {
     "data": {
      "text/plain": [
       "4635"
      ]
     },
     "execution_count": 10,
     "metadata": {},
     "output_type": "execute_result"
    }
   ],
   "source": [
    "custo(agenda)"
   ]
  },
  {
   "cell_type": "markdown",
   "metadata": {},
   "source": [
    "### PESQUISA RANDÔMICA"
   ]
  },
  {
   "cell_type": "code",
   "execution_count": 11,
   "metadata": {},
   "outputs": [],
   "source": [
    "def pesquisa_randomica(dominio, funcao_custo):\n",
    "    melhor_custo = 9999999999\n",
    "    melhor_solucao = []\n",
    "    for i in range(0, 1000):\n",
    "        solucao = [random.randint(dominio[i][0], dominio[i][1]) for i in range(len(dominio))]\n",
    "        custo = funcao_custo(solucao)\n",
    "        if custo < melhor_custo:\n",
    "            melhor_custo = custo\n",
    "            melhor_solucao = solucao\n",
    "    return melhor_solucao"
   ]
  },
  {
   "cell_type": "code",
   "execution_count": 12,
   "metadata": {},
   "outputs": [
    {
     "data": {
      "text/plain": [
       "3688"
      ]
     },
     "execution_count": 12,
     "metadata": {},
     "output_type": "execute_result"
    }
   ],
   "source": [
    "dominio = [(0, 9)] * (len(pessoas) * 2)\n",
    "solucao_randomica = pesquisa_randomica(dominio, custo)\n",
    "custo_randomica = custo(solucao_randomica)\n",
    "custo_randomica"
   ]
  },
  {
   "cell_type": "code",
   "execution_count": 13,
   "metadata": {},
   "outputs": [
    {
     "name": "stdout",
     "output_type": "stream",
     "text": [
      "Amanda CWB 12:34 15:02 109 15:25 16:58 62\n",
      "\n",
      "Pedro GIG 12:19 15:25 342 19:57 23:15 512\n",
      "\n",
      "Marcos POA 12:08 14:59 149 15:50 18:45 243\n",
      "\n",
      "Priscila FLN 14:01 17:24 338 15:23 18:49 150\n",
      "\n",
      "Jessica CNF 14:22 16:32 126 17:06 20:00 95\n",
      "\n",
      "Paulo GYN 11:08 13:07 175 16:35 18:56 144\n",
      "\n"
     ]
    }
   ],
   "source": [
    "imprimir_agenda(solucao_randomica)"
   ]
  },
  {
   "cell_type": "markdown",
   "metadata": {},
   "source": [
    "### Subida da Encosta"
   ]
  },
  {
   "cell_type": "code",
   "execution_count": 20,
   "metadata": {},
   "outputs": [],
   "source": [
    "def subida_da_encosta(dominio, funcao_custo):\n",
    "    solucao = [random.randint(dominio[i][0], dominio[i][1]) for i in range(len(dominio))]\n",
    "    while True:\n",
    "        vizinhos = []\n",
    "        for i in range(len(dominio)):\n",
    "            if solucao[i] == dominio[i][0]:\n",
    "                if solucao[i] != dominio[i][1]:\n",
    "                    vizinhos.append(solucao[0:i] + [solucao[i] + 1] + solucao[i + 1:])\n",
    "            if solucao[i] < dominio[i][1]:\n",
    "                if solucao[i] != dominio[i][0]:\n",
    "                    vizinhos.append(solucao[0:i] + [solucao[i] - 1] + solucao[i + 1:])\n",
    "            \n",
    "        atual = funcao_custo(solucao)\n",
    "        melhor = atual\n",
    "\n",
    "        for i in range(len(vizinhos)):\n",
    "            custo = funcao_custo(vizinhos[i])\n",
    "            if custo < atual:\n",
    "                melhor = custo\n",
    "                solucao = vizinhos[i]\n",
    "\n",
    "        if melhor == atual:\n",
    "            break\n",
    "        \n",
    "    return solucao"
   ]
  },
  {
   "cell_type": "code",
   "execution_count": 71,
   "metadata": {},
   "outputs": [
    {
     "data": {
      "text/plain": [
       "2872"
      ]
     },
     "execution_count": 71,
     "metadata": {},
     "output_type": "execute_result"
    }
   ],
   "source": [
    "dominio = [(0, 9)] * (len(pessoas) * 2)\n",
    "solucao_subida_da_encosta = subida_da_encosta(dominio, custo)\n",
    "custo_subida_da_encosta = custo(solucao_subida_da_encosta)\n",
    "custo_subida_da_encosta"
   ]
  },
  {
   "cell_type": "code",
   "execution_count": 72,
   "metadata": {},
   "outputs": [
    {
     "name": "stdout",
     "output_type": "stream",
     "text": [
      "Amanda CWB 8:04 10:11 95 9:58 11:18 130\n",
      "\n",
      "Pedro GIG 6:12 10:22 230 9:49 13:51 229\n",
      "\n",
      "Marcos POA 8:27 10:45 139 13:37 15:33 142\n",
      "\n",
      "Priscila FLN 7:34 9:40 324 11:08 14:38 262\n",
      "\n",
      "Jessica CNF 8:25 10:34 157 10:33 13:11 132\n",
      "\n",
      "Paulo GYN 7:39 10:24 219 11:07 13:24 171\n",
      "\n"
     ]
    }
   ],
   "source": [
    "imprimir_agenda(solucao_subida_da_encosta)"
   ]
  }
 ],
 "metadata": {
  "kernelspec": {
   "display_name": "Python 3",
   "language": "python",
   "name": "python3"
  },
  "language_info": {
   "codemirror_mode": {
    "name": "ipython",
    "version": 3
   },
   "file_extension": ".py",
   "mimetype": "text/x-python",
   "name": "python",
   "nbconvert_exporter": "python",
   "pygments_lexer": "ipython3",
   "version": "3.12.1"
  }
 },
 "nbformat": 4,
 "nbformat_minor": 2
}
