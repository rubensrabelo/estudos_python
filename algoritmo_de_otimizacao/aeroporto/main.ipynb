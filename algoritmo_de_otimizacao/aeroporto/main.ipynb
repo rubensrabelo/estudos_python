{
 "cells": [
  {
   "cell_type": "code",
   "execution_count": 1,
   "metadata": {},
   "outputs": [],
   "source": [
    "import time\n",
    "import random\n",
    "import math"
   ]
  },
  {
   "cell_type": "code",
   "execution_count": 2,
   "metadata": {},
   "outputs": [],
   "source": [
    "pessoas = [(\"Amanda\", \"CWB\"),\n",
    "           (\"Pedro\", \"GIG\"),\n",
    "           (\"Marcos\", \"POA\"),\n",
    "           (\"Priscila\", \"FLN\"),\n",
    "           (\"Jessica\", \"CNF\"),\n",
    "           (\"Paulo\", \"GYN\"),]"
   ]
  },
  {
   "cell_type": "code",
   "execution_count": 3,
   "metadata": {},
   "outputs": [],
   "source": [
    "destino = \"GRU\""
   ]
  },
  {
   "cell_type": "code",
   "execution_count": 4,
   "metadata": {},
   "outputs": [],
   "source": [
    "voos = {}"
   ]
  },
  {
   "cell_type": "code",
   "execution_count": 5,
   "metadata": {},
   "outputs": [],
   "source": [
    "with open(\"voos.txt\", \"r\") as arq:\n",
    "    for linha in arq.readlines():\n",
    "        origem, destino, saida, chegada, preco = linha.split(\",\")\n",
    "        voos.setdefault((origem, destino), [])\n",
    "        voos[(origem, destino)].append((saida, chegada, int(preco)))"
   ]
  },
  {
   "cell_type": "code",
   "execution_count": 6,
   "metadata": {},
   "outputs": [],
   "source": [
    "# [1,4, 3,2, 7,3, 6,3, 2,4, 5,3 ]\n",
    "\n",
    "def imprimir_agenda(agenda: list[int]) -> None:\n",
    "    id_voo = -1\n",
    "    for i in range(len(agenda)//2):\n",
    "        nome = pessoas[i][0]\n",
    "        origem = pessoas[i][1]\n",
    "        id_voo += 1\n",
    "        ida = voos[(origem, destino)][agenda[id_voo]]\n",
    "        id_voo += 1\n",
    "        volta = voos[(destino, origem)][agenda[id_voo]]\n",
    "        print(f\"{nome} {origem} {ida[0]} {ida[1]} {ida[2]} {volta[0]} {volta[1]} {volta[2]}\\n\")"
   ]
  },
  {
   "cell_type": "code",
   "execution_count": 7,
   "metadata": {},
   "outputs": [
    {
     "name": "stdout",
     "output_type": "stream",
     "text": [
      "Amanda CWB 8:04 10:11 95 12:08 14:05 142\n",
      "\n",
      "Pedro GIG 10:30 14:57 290 9:49 13:51 229\n",
      "\n",
      "Marcos POA 17:08 19:08 262 10:32 13:16 139\n",
      "\n",
      "Priscila FLN 15:34 18:11 326 11:08 14:38 262\n",
      "\n",
      "Jessica CNF 9:42 11:32 169 12:08 14:47 231\n",
      "\n",
      "Paulo GYN 13:37 15:08 250 11:07 13:24 171\n",
      "\n"
     ]
    }
   ],
   "source": [
    "agenda = [1,4, 3,2, 7,3, 6,3, 2,4, 5,3 ]\n",
    "\n",
    "imprimir_agenda(agenda)"
   ]
  },
  {
   "cell_type": "code",
   "execution_count": 12,
   "metadata": {},
   "outputs": [],
   "source": [
    "def obter_minutos(horaStr: str):\n",
    "    hora = time.strptime(horaStr, \"%H:%M\")\n",
    "    minutos = hora[3] * 60 + hora[4]\n",
    "    return minutos"
   ]
  },
  {
   "cell_type": "code",
   "execution_count": 18,
   "metadata": {},
   "outputs": [],
   "source": [
    "def custo(solucao) -> None:\n",
    "    preco_total = 0\n",
    "    ultima_chegada = 0\n",
    "    primeira_partida = obter_minutos(\"23:59\")\n",
    "\n",
    "    id_voo = -1\n",
    "    for i in range(len(solucao) // 2):\n",
    "        origem = pessoas[i][1]\n",
    "        id_voo += 1\n",
    "        ida = voos[(origem, destino)][agenda[id_voo]]\n",
    "        id_voo += 1\n",
    "        volta = voos[(destino, origem)][agenda[id_voo]]\n",
    "\n",
    "        preco_total += ida[2] + volta[2]\n",
    "\n",
    "        if ultima_chegada < obter_minutos(ida[1]):\n",
    "            ultima_chegada = obter_minutos(ida[1])\n",
    "\n",
    "        if primeira_partida > obter_minutos(volta[0]):\n",
    "            primeira_partida = obter_minutos(volta[0])\n",
    "    \n",
    "    total_espera = 0\n",
    "    id_voo = -1\n",
    "    for i in range(len(solucao) // 2):\n",
    "        origem = pessoas[i][1]\n",
    "        id_voo += 1\n",
    "        ida = voos[(origem, destino)][agenda[id_voo]]\n",
    "        id_voo += 1\n",
    "        volta = voos[(destino, origem)][agenda[id_voo]]\n",
    "\n",
    "        total_espera += (ultima_chegada - obter_minutos(ida[1])) + (obter_minutos(volta[0]) - primeira_partida)\n",
    "\n",
    "    if ultima_chegada > primeira_partida:\n",
    "        preco_total += 50\n",
    "\n",
    "    return preco_total + total_espera "
   ]
  },
  {
   "cell_type": "code",
   "execution_count": 19,
   "metadata": {},
   "outputs": [
    {
     "data": {
      "text/plain": [
       "4635"
      ]
     },
     "execution_count": 19,
     "metadata": {},
     "output_type": "execute_result"
    }
   ],
   "source": [
    "custo(agenda)"
   ]
  },
  {
   "cell_type": "code",
   "execution_count": null,
   "metadata": {},
   "outputs": [],
   "source": []
  }
 ],
 "metadata": {
  "kernelspec": {
   "display_name": "Python 3",
   "language": "python",
   "name": "python3"
  },
  "language_info": {
   "codemirror_mode": {
    "name": "ipython",
    "version": 3
   },
   "file_extension": ".py",
   "mimetype": "text/x-python",
   "name": "python",
   "nbconvert_exporter": "python",
   "pygments_lexer": "ipython3",
   "version": "3.12.1"
  }
 },
 "nbformat": 4,
 "nbformat_minor": 2
}
