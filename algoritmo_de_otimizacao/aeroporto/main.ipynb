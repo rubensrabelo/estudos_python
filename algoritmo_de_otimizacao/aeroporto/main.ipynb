{
 "cells": [
  {
   "cell_type": "code",
   "execution_count": 20,
   "metadata": {},
   "outputs": [],
   "source": [
    "import time\n",
    "import random\n",
    "import math"
   ]
  },
  {
   "cell_type": "code",
   "execution_count": 21,
   "metadata": {},
   "outputs": [],
   "source": [
    "pessoas = [(\"Amanda\", \"CWB\"),\n",
    "           (\"Pedro\", \"GIG\"),\n",
    "           (\"Marcos\", \"POA\"),\n",
    "           (\"Priscila\", \"FLN\"),\n",
    "           (\"Jessica\", \"CNF\"),\n",
    "           (\"Paulo\", \"GYN\"),]"
   ]
  },
  {
   "cell_type": "code",
   "execution_count": 22,
   "metadata": {},
   "outputs": [],
   "source": [
    "destino = \"GRU\""
   ]
  },
  {
   "cell_type": "code",
   "execution_count": 23,
   "metadata": {},
   "outputs": [],
   "source": [
    "voos = {}"
   ]
  },
  {
   "cell_type": "code",
   "execution_count": 24,
   "metadata": {},
   "outputs": [],
   "source": [
    "with open(\"voos.txt\", \"r\") as arq:\n",
    "    for linha in arq.readlines():\n",
    "        origem, destino, saida, chegada, preco = linha.split(\",\")\n",
    "        voos.setdefault((origem, destino), [])\n",
    "        voos[(origem, destino)].append((saida, chegada, int(preco)))"
   ]
  },
  {
   "cell_type": "code",
   "execution_count": 25,
   "metadata": {},
   "outputs": [],
   "source": [
    "# [1,4, 3,2, 7,3, 6,3, 2,4, 5,3 ]\n",
    "\n",
    "def imprimir_agenda(agenda: list[int]) -> None:\n",
    "    id_voo = -1\n",
    "    for i in range(len(agenda)//2):\n",
    "        nome = pessoas[i][0]\n",
    "        origem = pessoas[i][1]\n",
    "        id_voo += 1\n",
    "        ida = voos[(origem, destino)][agenda[id_voo]]\n",
    "        id_voo += 1\n",
    "        volta = voos[(destino, origem)][agenda[id_voo]]\n",
    "        print(f\"{nome} {origem} {ida[0]} {ida[1]} {ida[2]} {volta[0]} {volta[1]} {volta[2]}\\n\")"
   ]
  },
  {
   "cell_type": "code",
   "execution_count": 26,
   "metadata": {},
   "outputs": [
    {
     "name": "stdout",
     "output_type": "stream",
     "text": [
      "Amanda CWB 8:04 10:11 95 12:08 14:05 142\n",
      "\n",
      "Pedro GIG 10:30 14:57 290 9:49 13:51 229\n",
      "\n",
      "Marcos POA 17:08 19:08 262 10:32 13:16 139\n",
      "\n",
      "Priscila FLN 15:34 18:11 326 11:08 14:38 262\n",
      "\n",
      "Jessica CNF 9:42 11:32 169 12:08 14:47 231\n",
      "\n",
      "Paulo GYN 13:37 15:08 250 11:07 13:24 171\n",
      "\n"
     ]
    }
   ],
   "source": [
    "agenda = [1,4, 3,2, 7,3, 6,3, 2,4, 5,3 ]\n",
    "\n",
    "imprimir_agenda(agenda)"
   ]
  },
  {
   "cell_type": "code",
   "execution_count": 27,
   "metadata": {},
   "outputs": [],
   "source": [
    "def obter_minutos(horaStr: str):\n",
    "    hora = time.strptime(horaStr, \"%H:%M\")\n",
    "    minutos = hora[3] * 60 + hora[4]\n",
    "    return minutos"
   ]
  },
  {
   "cell_type": "code",
   "execution_count": 28,
   "metadata": {},
   "outputs": [],
   "source": [
    "def custo(solucao) -> None:\n",
    "    preco_total = 0\n",
    "    ultima_chegada = 0\n",
    "    primeira_partida = obter_minutos(\"23:59\")\n",
    "\n",
    "    id_voo = -1\n",
    "    for i in range(len(solucao) // 2):\n",
    "        origem = pessoas[i][1]\n",
    "        id_voo += 1\n",
    "        ida = voos[(origem, destino)][solucao[id_voo]]\n",
    "        id_voo += 1\n",
    "        volta = voos[(destino, origem)][solucao[id_voo]]\n",
    "\n",
    "        preco_total += ida[2] + volta[2]\n",
    "\n",
    "        if ultima_chegada < obter_minutos(ida[1]):\n",
    "            ultima_chegada = obter_minutos(ida[1])\n",
    "\n",
    "        if primeira_partida > obter_minutos(volta[0]):\n",
    "            primeira_partida = obter_minutos(volta[0])\n",
    "    \n",
    "    total_espera = 0\n",
    "    id_voo = -1\n",
    "    for i in range(len(solucao) // 2):\n",
    "        origem = pessoas[i][1]\n",
    "        id_voo += 1\n",
    "        ida = voos[(origem, destino)][solucao[id_voo]]\n",
    "        id_voo += 1\n",
    "        volta = voos[(destino, origem)][solucao[id_voo]]\n",
    "\n",
    "        total_espera += (ultima_chegada - obter_minutos(ida[1])) + (obter_minutos(volta[0]) - primeira_partida)\n",
    "\n",
    "    if ultima_chegada > primeira_partida:\n",
    "        preco_total += 50\n",
    "\n",
    "    return preco_total + total_espera "
   ]
  },
  {
   "cell_type": "code",
   "execution_count": 29,
   "metadata": {},
   "outputs": [
    {
     "data": {
      "text/plain": [
       "4635"
      ]
     },
     "execution_count": 29,
     "metadata": {},
     "output_type": "execute_result"
    }
   ],
   "source": [
    "custo(agenda)"
   ]
  },
  {
   "cell_type": "markdown",
   "metadata": {},
   "source": [
    "### PESQUISA RANDÔMICA"
   ]
  },
  {
   "cell_type": "code",
   "execution_count": 30,
   "metadata": {},
   "outputs": [],
   "source": [
    "def pesquisa_randomica(dominio, funcao_custo):\n",
    "    melhor_custo = 9999999999\n",
    "    melhor_solucao = []\n",
    "    for i in range(0, 1000):\n",
    "        solucao = [random.randint(dominio[i][0], dominio[i][1]) for i in range(len(dominio))]\n",
    "        custo = funcao_custo(solucao)\n",
    "        if custo < melhor_custo:\n",
    "            melhor_custo = custo\n",
    "            melhor_solucao = solucao\n",
    "    return melhor_solucao"
   ]
  },
  {
   "cell_type": "code",
   "execution_count": 31,
   "metadata": {},
   "outputs": [
    {
     "data": {
      "text/plain": [
       "3921"
      ]
     },
     "execution_count": 31,
     "metadata": {},
     "output_type": "execute_result"
    }
   ],
   "source": [
    "dominio = [(0, 9)] * (len(pessoas) * 2)\n",
    "solucao_randomica = pesquisa_randomica(dominio, custo)\n",
    "custo_randomica = custo(solucao_randomica)\n",
    "custo_randomica"
   ]
  },
  {
   "cell_type": "code",
   "execution_count": 32,
   "metadata": {},
   "outputs": [
    {
     "name": "stdout",
     "output_type": "stream",
     "text": [
      "Amanda CWB 8:04 10:11 95 6:39 8:09 86\n",
      "\n",
      "Pedro GIG 9:08 12:12 364 10:51 14:16 256\n",
      "\n",
      "Marcos POA 10:53 13:36 189 10:32 13:16 139\n",
      "\n",
      "Priscila FLN 9:15 12:29 225 12:37 15:05 170\n",
      "\n",
      "Jessica CNF 9:42 11:32 169 9:11 10:42 172\n",
      "\n",
      "Paulo GYN 9:15 12:03 99 6:19 8:13 239\n",
      "\n"
     ]
    }
   ],
   "source": [
    "imprimir_agenda(solucao_randomica)"
   ]
  },
  {
   "cell_type": "markdown",
   "metadata": {},
   "source": [
    "### Subida da Encosta"
   ]
  },
  {
   "cell_type": "code",
   "execution_count": 33,
   "metadata": {},
   "outputs": [],
   "source": [
    "def subida_da_encosta(dominio, funcao_custo):\n",
    "    solucao = [random.randint(dominio[i][0], dominio[i][1]) for i in range(len(dominio))]\n",
    "    while True:\n",
    "        vizinhos = []\n",
    "        for i in range(len(dominio)):\n",
    "            if solucao[i] == dominio[i][0]:\n",
    "                if solucao[i] != dominio[i][1]:\n",
    "                    vizinhos.append(solucao[0:i] + [solucao[i] + 1] + solucao[i + 1:])\n",
    "            if solucao[i] < dominio[i][1]:\n",
    "                if solucao[i] != dominio[i][0]:\n",
    "                    vizinhos.append(solucao[0:i] + [solucao[i] - 1] + solucao[i + 1:])\n",
    "            \n",
    "        atual = funcao_custo(solucao)\n",
    "        melhor = atual\n",
    "\n",
    "        for i in range(len(vizinhos)):\n",
    "            custo = funcao_custo(vizinhos[i])\n",
    "            if custo < atual:\n",
    "                melhor = custo\n",
    "                solucao = vizinhos[i]\n",
    "\n",
    "        if melhor == atual:\n",
    "            break\n",
    "        \n",
    "    return solucao"
   ]
  },
  {
   "cell_type": "code",
   "execution_count": 34,
   "metadata": {},
   "outputs": [
    {
     "data": {
      "text/plain": [
       "4854"
      ]
     },
     "execution_count": 34,
     "metadata": {},
     "output_type": "execute_result"
    }
   ],
   "source": [
    "dominio = [(0, 9)] * (len(pessoas) * 2)\n",
    "solucao_subida_da_encosta = subida_da_encosta(dominio, custo)\n",
    "custo_subida_da_encosta = custo(solucao_subida_da_encosta)\n",
    "custo_subida_da_encosta"
   ]
  },
  {
   "cell_type": "code",
   "execution_count": 35,
   "metadata": {},
   "outputs": [
    {
     "name": "stdout",
     "output_type": "stream",
     "text": [
      "Amanda CWB 11:16 13:29 83 19:58 21:23 142\n",
      "\n",
      "Pedro GIG 10:30 14:57 290 9:49 13:51 229\n",
      "\n",
      "Marcos POA 12:08 14:59 149 13:37 15:33 142\n",
      "\n",
      "Priscila FLN 7:34 9:40 324 15:23 18:49 150\n",
      "\n",
      "Jessica CNF 12:44 14:17 134 19:32 21:25 160\n",
      "\n",
      "Paulo GYN 7:39 10:24 219 9:31 11:43 210\n",
      "\n"
     ]
    }
   ],
   "source": [
    "imprimir_agenda(solucao_subida_da_encosta)"
   ]
  },
  {
   "cell_type": "markdown",
   "metadata": {},
   "source": [
    "### Têmpera Simulada"
   ]
  },
  {
   "cell_type": "code",
   "execution_count": 36,
   "metadata": {},
   "outputs": [],
   "source": [
    "def tempera_simulada(dominio, funcao_custo, temperatura = 10000.0, resfriamento = 0.95, passo = 1):\n",
    "    solucao = [random.randint(dominio[i][0], dominio[i][1]) for i in range(len(dominio))]\n",
    "\n",
    "    while temperatura > 0.1:\n",
    "        index = random.randint(0, len(dominio) - 1)\n",
    "        direcao = random.randint(-passo, passo)\n",
    "\n",
    "        solucao_temp = solucao[:]\n",
    "        solucao_temp[index] += direcao\n",
    "        if solucao_temp[index] < dominio[index][0]:\n",
    "            solucao_temp[index] = dominio[index][0]\n",
    "        if solucao_temp[index] > dominio[index][1]:\n",
    "            solucao_temp[index] = dominio[index][1]\n",
    "        \n",
    "        custo_solucao = funcao_custo(solucao)\n",
    "        custo_solucao_temp = funcao_custo(solucao_temp)\n",
    "        probabilidade = pow(math.e, (-custo_solucao - custo_solucao_temp) / temperatura)\n",
    "\n",
    "        if (custo_solucao_temp < custo_solucao) or (random.random() < probabilidade):\n",
    "            solucao = solucao_temp\n",
    "        \n",
    "        temperatura = temperatura * resfriamento\n",
    "    return solucao"
   ]
  },
  {
   "cell_type": "code",
   "execution_count": 37,
   "metadata": {},
   "outputs": [
    {
     "data": {
      "text/plain": [
       "4070"
      ]
     },
     "execution_count": 37,
     "metadata": {},
     "output_type": "execute_result"
    }
   ],
   "source": [
    "dominio = [(0, 9)] * (len(pessoas) * 2)\n",
    "solucao_tempera_simulada = tempera_simulada(dominio, custo)\n",
    "custo_da_tempera_simulada = custo(solucao_tempera_simulada )\n",
    "custo_da_tempera_simulada"
   ]
  },
  {
   "cell_type": "code",
   "execution_count": 38,
   "metadata": {},
   "outputs": [
    {
     "name": "stdout",
     "output_type": "stream",
     "text": [
      "Amanda CWB 17:11 18:30 108 10:33 12:03 74\n",
      "\n",
      "Pedro GIG 13:54 18:02 294 6:09 9:49 414\n",
      "\n",
      "Marcos POA 15:23 17:25 232 8:19 11:16 122\n",
      "\n",
      "Priscila FLN 11:28 14:40 248 15:23 18:49 150\n",
      "\n",
      "Jessica CNF 15:58 18:40 173 6:03 8:43 219\n",
      "\n",
      "Paulo GYN 12:18 14:56 172 6:19 8:13 239\n",
      "\n"
     ]
    }
   ],
   "source": [
    "imprimir_agenda(solucao_tempera_simulada)"
   ]
  },
  {
   "cell_type": "markdown",
   "metadata": {},
   "source": [
    "### Genetic Algorithm"
   ]
  },
  {
   "cell_type": "code",
   "execution_count": 44,
   "metadata": {},
   "outputs": [],
   "source": [
    "def mutacao(dominio, passo, solucao):\n",
    "    index = random.randint(0, len(dominio) - 1)\n",
    "    mutante = solucao\n",
    "\n",
    "    if random.random() < 0.5:\n",
    "        if solucao[index] != dominio[index][0]:\n",
    "            mutante = solucao[0:index] + [solucao[index] - passo] + solucao[index + 1:]\n",
    "    else:\n",
    "        if solucao[index] != dominio[index][1]:\n",
    "            mutante = solucao[0:index] + [solucao[index] + 1] + solucao[index + 1:]\n",
    "    \n",
    "    return mutante\n",
    "\n",
    "def cruzamento(dominio, solucao1, solucao2):\n",
    "    index = random.randint(1, len(dominio) - 2)\n",
    "\n",
    "    return solucao1[0:index] + solucao2[index:]"
   ]
  },
  {
   "cell_type": "code",
   "execution_count": 48,
   "metadata": {},
   "outputs": [
    {
     "data": {
      "text/plain": [
       "[1, 4, 3, 2, 7, 3, 2, 3, 5, 1, 0, 6]"
      ]
     },
     "execution_count": 48,
     "metadata": {},
     "output_type": "execute_result"
    }
   ],
   "source": [
    "s1 = [1,4, 3,2, 7,3, 6,3, 2,4, 5,3]\n",
    "s2 = [0,1, 2,5, 8,9, 2,3, 5,1, 0,6]\n",
    "s3 = cruzamento(dominio, s1, s2)\n",
    "s3"
   ]
  },
  {
   "cell_type": "code",
   "execution_count": null,
   "metadata": {},
   "outputs": [],
   "source": []
  }
 ],
 "metadata": {
  "kernelspec": {
   "display_name": "Python 3",
   "language": "python",
   "name": "python3"
  },
  "language_info": {
   "codemirror_mode": {
    "name": "ipython",
    "version": 3
   },
   "file_extension": ".py",
   "mimetype": "text/x-python",
   "name": "python",
   "nbconvert_exporter": "python",
   "pygments_lexer": "ipython3",
   "version": "3.12.1"
  }
 },
 "nbformat": 4,
 "nbformat_minor": 2
}
